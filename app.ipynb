{
 "cells": [
  {
   "cell_type": "code",
   "execution_count": null,
   "metadata": {},
   "outputs": [],
   "source": [
    "import os\n",
    "import praw\n",
    "from dotenv import load_dotenv\n",
    "\n",
    "load_dotenv()\n",
    "\n",
    "REDDIT_CLIENT_ID = os.environ[\"REDDIT_CLIENT_ID\"]\n",
    "REDDIT_CLIENT_SECRET = os.environ[\"REDDIT_CLIENT_SECRET\"]\n",
    "REDDIT_PASSWORD = os.environ[\"REDDIT_PASSWORD\"]\n",
    "REDDIT_USERNAME = os.environ[\"REDDIT_USERNAME\"]\n",
    "REDDIT_AGENT_NAME = os.environ[\"REDDIT_AGENT_NAME\"]\n",
    "SUBREDDIT_NAME = os.environ[\"SUBREDDIT_NAME\"]"
   ]
  },
  {
   "cell_type": "code",
   "execution_count": null,
   "metadata": {},
   "outputs": [],
   "source": [
    "reddit = praw.Reddit(\n",
    "    client_id=REDDIT_CLIENT_ID,\n",
    "    client_secret=REDDIT_CLIENT_SECRET,\n",
    "    user_agent=REDDIT_AGENT_NAME,\n",
    "    username=REDDIT_USERNAME,\n",
    "    password=REDDIT_PASSWORD,\n",
    ")\n",
    "\n",
    "subreddit = reddit.subreddit(SUBREDDIT_NAME)\n",
    "\n",
    "\n",
    "def fetch_new_submissions(subreddit: any, limit: int = 10) -> list:\n",
    "    submissions = []\n",
    "    for submission in subreddit.new(limit=limit):\n",
    "        submissions.append(submission)\n",
    "    return submissions\n",
    "\n",
    "\n",
    "def fetch_hot_submissions(subreddit: any, limit: int = 10) -> list:\n",
    "    submissions = []\n",
    "    for submission in subreddit.hot(limit=limit):\n",
    "        submissions.append(submission)\n",
    "    return submissions"
   ]
  },
  {
   "cell_type": "code",
   "execution_count": null,
   "metadata": {},
   "outputs": [
    {
     "data": {
      "text/plain": [
       "'https://v.redd.it/up3aaplbmdte1'"
      ]
     },
     "execution_count": 8,
     "metadata": {},
     "output_type": "execute_result"
    }
   ],
   "source": [
    "subbmissions = fetch_hot_submissions(subreddit, limit=5)\n",
    "\n",
    "submission = subbmissions[4]\n",
    "\n",
    "submission.url"
   ]
  },
  {
   "cell_type": "code",
   "execution_count": null,
   "metadata": {},
   "outputs": [
    {
     "name": "stdout",
     "output_type": "stream",
     "text": [
      ">> Connecting...\n",
      ">> Scraping...\n",
      ">> Downloading and Re-encoding...\n",
      ">> Video:\n",
      ">>>> [██████████████████████████████████████████████████] [10.40/10.40 MB]\n",
      ">> Audio:\n",
      ">>>> [██████████████████████████████████████████████████] [0.65/0.65 MB]\n",
      ">> Done\n"
     ]
    },
    {
     "data": {
      "text/plain": [
       "'/home/hm3/Desktop/playground/webScraperAgent/up3aaplbmdte1-DASH_720.mp4'"
      ]
     },
     "execution_count": 9,
     "metadata": {},
     "output_type": "execute_result"
    }
   ],
   "source": [
    "from redvid import Downloader\n",
    "\n",
    "path = f\"./downloads/{SUBREDDIT_NAME}\"\n",
    "\n",
    "os.mkdir(path, exist_ok=True)\n",
    "\n",
    "reddit = Downloader(max_q=True, path=path)\n",
    "reddit.url = submission.url\n",
    "reddit.download()"
   ]
  }
 ],
 "metadata": {
  "kernelspec": {
   "display_name": ".venv",
   "language": "python",
   "name": "python3"
  },
  "language_info": {
   "codemirror_mode": {
    "name": "ipython",
    "version": 3
   },
   "file_extension": ".py",
   "mimetype": "text/x-python",
   "name": "python",
   "nbconvert_exporter": "python",
   "pygments_lexer": "ipython3",
   "version": "3.13.1"
  }
 },
 "nbformat": 4,
 "nbformat_minor": 2
}
