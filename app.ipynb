{
 "cells": [
  {
   "cell_type": "code",
   "execution_count": null,
   "metadata": {},
   "outputs": [],
   "source": [
    "from dotenv import load_dotenv\n",
    "import os\n",
    "\n",
    "load_dotenv()\n",
    "\n",
    "REDDIT_CLIENT_ID=os.environ[\"REDDIT_CLIENT_ID\"]\n",
    "REDDIT_CLIENT_SECRET=os.environ[\"REDDIT_CLIENT_SECRET\"] \n",
    "REDDIT_PASSWORD=os.environ[\"REDDIT_PASSWORD\"]\n",
    "REDDIT_USERNAME=os.environ[\"REDDIT_USERNAME\"]\n",
    "REDDIT_AGENT_NAME=os.environ[\"REDDIT_AGENT_NAME\"]\n",
    "SUBREDDIT_NAME=os.environ[\"SUBREDDIT_NAME\"]\n",
    " "
   ]
  },
  {
   "cell_type": "code",
   "execution_count": null,
   "metadata": {},
   "outputs": [],
   "source": [
    "import praw\n",
    "import pandas as pd\n",
    "from dataclasses import dataclass\n",
    " \n",
    "\n",
    "reddit = praw.Reddit(\n",
    "    client_id=REDDIT_CLIENT_ID,\n",
    "    client_secret=REDDIT_CLIENT_SECRET,\n",
    "    user_agent=REDDIT_AGENT_NAME,\n",
    "    username=REDDIT_USERNAME,\n",
    "    password=REDDIT_PASSWORD,\n",
    ")\n",
    "\n",
    "subreddit = reddit.subreddit(SUBREDDIT_NAME)\n",
    "\n",
    "\n",
    "\n",
    "def fetch_new_submissions(subreddit:any, limit:int=10)->list:\n",
    "    submissions = []\n",
    "    for submission in subreddit.new(limit=limit):\n",
    "        submissions.append(submission)\n",
    "    return submissions\n",
    "\n",
    "def fetch_hot_submissions(subreddit:any, limit:int=10)->list:\n",
    "    submissions = []\n",
    "    for submission in subreddit.hot(limit=limit):\n",
    "        submissions.append(submission)\n",
    "    return submissions"
   ]
  },
  {
   "cell_type": "code",
   "execution_count": 10,
   "metadata": {},
   "outputs": [
    {
     "name": "stdout",
     "output_type": "stream",
     "text": [
      "Data fetched successfully!\n",
      "['1jqlxrz', 'Zani gameplay', 6352, 'https://v.redd.it/36wtzsv65nse1', 854, '']\n"
     ]
    }
   ],
   "source": [
    "data = []\n",
    "for post in subreddit.hot(limit=10):\n",
    " \n",
    "    data.append([post.id, post.title, post.score, post.url, post.num_comments, post.selftext])\n",
    "\n",
    "# df = pd.DataFrame(data, columns=['Id','Title', 'Score', 'URL', 'Comments', 'Text'])\n",
    "# df.to_csv(f'{subreddit_name}_posts.csv', index=False)\n",
    "print(\"Data fetched successfully!\")\n",
    "print(data[1])"
   ]
  },
  {
   "cell_type": "code",
   "execution_count": 31,
   "metadata": {},
   "outputs": [],
   "source": [
    "import os\n",
    "import requests\n",
    "import ffmpeg\n",
    "from urllib.parse import urlparse, parse_qs\n",
    "from praw import Reddit\n",
    "from praw.models import Submission\n",
    "\n",
    "def download_media(submission, download_dir=\"downloads\"):\n",
    "    \"\"\"\n",
    "    Downloads images or videos from a Reddit submission.\n",
    "\n",
    "    Parameters:\n",
    "    - submission: A PRAW Submission object.\n",
    "    - download_dir: Directory where media files will be saved.\n",
    "    \"\"\"\n",
    "    # Ensure the download directory exists\n",
    "    os.makedirs(download_dir, exist_ok=True)\n",
    "\n",
    "    # Check if the submission is a gallery (multiple images)\n",
    "    if hasattr(submission, 'is_gallery') and submission.is_gallery:\n",
    "        download_gallery(submission, download_dir)\n",
    "    # Check if the submission is a single image\n",
    "    elif submission.url.endswith(('.jpg', '.jpeg', '.png', '.gif')):\n",
    "        download_file(submission.url, download_dir)\n",
    "    # Check if the submission is a Reddit-hosted video\n",
    "    elif submission.is_video:\n",
    "        download_reddit_video(submission, download_dir)\n",
    "    else:\n",
    "        print(\"No downloadable media found in this submission.\")\n",
    "def download_file(url, download_dir):\n",
    "    \"\"\"\n",
    "    Downloads a file from a given URL.\n",
    "\n",
    "    Parameters:\n",
    "    - url: The URL of the file to download.\n",
    "    - download_dir: Directory where the file will be saved.\n",
    "    \"\"\"\n",
    "    response = requests.get(url, stream=True)\n",
    "    if response.status_code == 200:\n",
    "        filename = os.path.join(download_dir, os.path.basename(url))\n",
    "        with open(filename, 'wb') as file:\n",
    "            for chunk in response.iter_content(chunk_size=8192):\n",
    "                file.write(chunk)\n",
    "        print(f\"Downloaded: {filename}\")\n",
    "    else:\n",
    "        print(f\"Failed to download {url}\")\n",
    "\n",
    "def download_gallery(submission, download_dir):\n",
    "    \"\"\"\n",
    "    Downloads all images from a Reddit gallery submission.\n",
    "\n",
    "    Parameters:\n",
    "    - submission: A PRAW Submission object representing a gallery.\n",
    "    - download_dir: Directory where images will be saved.\n",
    "    \"\"\"\n",
    "    if hasattr(submission, 'gallery_data') and hasattr(submission, 'media_metadata'):\n",
    "        for item in submission.gallery_data['items']:\n",
    "            media_id = item['media_id']\n",
    "            if media_id in submission.media_metadata:\n",
    "                media = submission.media_metadata[media_id]\n",
    "                if 'p' in media:\n",
    "                    # Get the highest resolution image\n",
    "                    image_url = media['p'][-1]['u']\n",
    "                    # Replace preview URL with actual image URL\n",
    "                    image_url = image_url.split('?')[0].replace('preview', 'i')\n",
    "                    download_file(image_url, download_dir)\n",
    "\n",
    "def download_reddit_video(submission, download_dir):\n",
    "    \"\"\"\n",
    "    Downloads a Reddit-hosted video and merges it with audio.\n",
    "\n",
    "    Parameters:\n",
    "    - submission: A PRAW Submission object representing a video.\n",
    "    - download_dir: Directory where the video will be saved.\n",
    "    \"\"\"\n",
    "    video_url = submission.media['reddit_video']['fallback_url']\n",
    "    audio_url = video_url.rsplit('/', 1)[0] + '/DASH_audio.mp4'\n",
    "\n",
    "    video_path = os.path.join(download_dir, f\"{submission.id}_video.mp4\")\n",
    "    audio_path = os.path.join(download_dir, f\"{submission.id}_audio.mp4\")\n",
    "    output_path = os.path.join(download_dir, f\"{submission.id}_combined.mp4\")\n",
    "\n",
    "    # Download video and audio streams\n",
    "    download_file(video_url, download_dir)\n",
    "    download_file(audio_url, download_dir)\n",
    "\n",
    "    # Merge video and audio using ffmpeg\n",
    "    merge_video_audio(video_path, audio_path, output_path)\n",
    "\n",
    "    # Clean up individual video and audio files\n",
    "    os.remove(video_path)\n",
    "    os.remove(audio_path)\n",
    "\n",
    "def merge_video_audio(video_path, audio_path, output_path):\n",
    "    \"\"\"\n",
    "    Merges video and audio files into a single file using ffmpeg.\n",
    "\n",
    "    Parameters:\n",
    "    - video_path: Path to the video file.\n",
    "    - audio_path: Path to the audio file.\n",
    "    - output_path: Path where the merged file will be saved.\n",
    "    \"\"\"\n",
    "    try:\n",
    "        ffmpeg.input(video_path).output(audio_path).run()\n",
    "        ffmpeg.input(audio_path).output(output_path).run()\n",
    "        print(f\"Merged video saved as: {output_path}\")\n",
    "    except ffmpeg.Error as e:\n",
    "        print(f\"Error merging video and audio: {e}\")\n"
   ]
  },
  {
   "cell_type": "code",
   "execution_count": 36,
   "metadata": {},
   "outputs": [
    {
     "name": "stderr",
     "output_type": "stream",
     "text": [
      "INFO: Detected Post Type: Video\n",
      "INFO: Fetching Video...\n",
      "INFO: Trying resolution: 720p\n",
      "INFO: Video File Downloaded Successfully\n",
      "INFO: Fetching Audio...\n",
      "INFO: Merging Files\n"
     ]
    },
    {
     "name": "stdout",
     "output_type": "stream",
     "text": [
      "Moviepy - Building video downloaded_media.mp4.\n",
      "MoviePy - Writing audio in downloaded_mediaTEMP_MPY_wvf_snd.mp3\n"
     ]
    },
    {
     "name": "stderr",
     "output_type": "stream",
     "text": [
      "INFO: Merging Done!                                      \n",
      "INFO: cleaning\n",
      "INFO: downloaded_media Successfully Downloaded!\n"
     ]
    },
    {
     "data": {
      "text/plain": [
       "<RedDownloader.RedDownloader.Download at 0x70c9b7155090>"
      ]
     },
     "execution_count": 36,
     "metadata": {},
     "output_type": "execute_result"
    }
   ],
   "source": [
    "from RedDownloader import RedDownloader\n",
    "\n",
    "subbmissions =fetch_hot_submissions(subreddit, limit=5)\n",
    " \n",
    "submission = subbmissions[1]\n",
    " \n",
    "video_url = submission.media['reddit_video']['fallback_url']\n",
    "audio_url = video_url.replace('DASH_720', 'DASH_audio')\n",
    "RedDownloader.Download(url=video_url, output='downloaded_media', quality=720)\n",
    " \n",
    " "
   ]
  }
 ],
 "metadata": {
  "kernelspec": {
   "display_name": ".venv",
   "language": "python",
   "name": "python3"
  },
  "language_info": {
   "codemirror_mode": {
    "name": "ipython",
    "version": 3
   },
   "file_extension": ".py",
   "mimetype": "text/x-python",
   "name": "python",
   "nbconvert_exporter": "python",
   "pygments_lexer": "ipython3",
   "version": "3.13.1"
  }
 },
 "nbformat": 4,
 "nbformat_minor": 2
}
