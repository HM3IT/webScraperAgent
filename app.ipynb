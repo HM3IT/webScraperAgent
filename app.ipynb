{
 "cells": [
  {
   "cell_type": "code",
   "execution_count": 3,
   "metadata": {},
   "outputs": [],
   "source": [
    "import os\n",
    "import praw\n",
    "from dotenv import load_dotenv\n",
    "\n",
    "load_dotenv()\n",
    "\n",
    "REDDIT_CLIENT_ID = os.environ[\"REDDIT_CLIENT_ID\"]\n",
    "REDDIT_CLIENT_SECRET = os.environ[\"REDDIT_CLIENT_SECRET\"]\n",
    "REDDIT_PASSWORD = os.environ[\"REDDIT_PASSWORD\"]\n",
    "REDDIT_USERNAME = os.environ[\"REDDIT_USERNAME\"]\n",
    "REDDIT_AGENT_NAME = os.environ[\"REDDIT_AGENT_NAME\"]\n",
    "SUBREDDIT_NAME = os.environ[\"SUBREDDIT_NAME\"]"
   ]
  },
  {
   "cell_type": "code",
   "execution_count": 4,
   "metadata": {},
   "outputs": [],
   "source": [
    "reddit = praw.Reddit(\n",
    "    client_id=REDDIT_CLIENT_ID,\n",
    "    client_secret=REDDIT_CLIENT_SECRET,\n",
    "    user_agent=REDDIT_AGENT_NAME,\n",
    "    username=REDDIT_USERNAME,\n",
    "    password=REDDIT_PASSWORD,\n",
    ")\n",
    "\n",
    "subreddit = reddit.subreddit(SUBREDDIT_NAME)\n",
    "\n",
    "\n",
    "def fetch_new_submissions(subreddit: any, limit: int = 10) -> list:\n",
    "    submissions = []\n",
    "    for submission in subreddit.new(limit=limit):\n",
    "        submissions.append(submission)\n",
    "    return submissions\n",
    "\n",
    "\n",
    "def fetch_hot_submissions(subreddit: any, limit: int = 10) -> list:\n",
    "    submissions = []\n",
    "    for submission in subreddit.hot(limit=limit):\n",
    "        submissions.append(submission)\n",
    "    return submissions"
   ]
  },
  {
   "cell_type": "code",
   "execution_count": null,
   "metadata": {},
   "outputs": [
    {
     "data": {
      "text/plain": [
       "'https://v.redd.it/up3aaplbmdte1'"
      ]
     },
     "execution_count": 3,
     "metadata": {},
     "output_type": "execute_result"
    }
   ],
   "source": [
    "subbmissions = fetch_hot_submissions(subreddit, limit=5)"
   ]
  },
  {
   "cell_type": "code",
   "execution_count": null,
   "metadata": {},
   "outputs": [],
   "source": [
    "import os\n",
    "import google.auth\n",
    "from google.auth.transport.requests import Request\n",
    "from google.oauth2.credentials import Credentials\n",
    "from google_auth_oauthlib.flow import InstalledAppFlow\n",
    "from googleapiclient.discovery import build\n",
    "from googleapiclient.http import MediaFileUpload\n",
    " \n",
    "SCOPES = ['https://www.googleapis.com/auth/youtube.upload']\n",
    "\n",
    "token_filepath = os.environ[\"TOKEN_FILEPATH\"]\n",
    "clinet_secrets_filepath = os.environ[\"CLIENT_SECRETS_FILEPATH\"]\n",
    "\n",
    "def authenticate_youtube():\n",
    "    creds = None\n",
    " \n",
    "    if os.path.exists(token_filepath):\n",
    "        creds = Credentials.from_authorized_user_file(token_filepath, SCOPES)\n",
    " \n",
    "    if not creds or not creds.valid:\n",
    "        if creds and creds.expired and creds.refresh_token:\n",
    "            creds.refresh(Request())\n",
    "        else:\n",
    "            flow = InstalledAppFlow.from_client_secrets_file(clinet_secrets_filepath, SCOPES)\n",
    "            creds = flow.run_local_server(port=0)\n",
    " \n",
    "        with open(token_filepath, 'w') as token:\n",
    "            token.write(creds.to_json())\n",
    "    return build('youtube', 'v3', credentials=creds)\n",
    "\n",
    "def upload_video(youtube, file_path, title, description, tags, category_id, privacy_status):\n",
    "    body=dict(\n",
    "        snippet=dict(\n",
    "            title=title,\n",
    "            description=description,\n",
    "            tags=tags,\n",
    "            categoryId=category_id\n",
    "        ),\n",
    "        status=dict(\n",
    "            privacyStatus=privacy_status\n",
    "        )\n",
    "    )\n",
    "    media = MediaFileUpload(file_path, chunksize=-1, resumable=True)\n",
    "    request = youtube.videos().insert(\n",
    "        part=','.join(body.keys()),\n",
    "        body=body,\n",
    "        media_body=media\n",
    "    )\n",
    "    response = None\n",
    "    while response is None:\n",
    "        status, response = request.next_chunk()\n",
    "        if status:\n",
    "            print(f\"Uploaded {int(status.progress() * 100)}%\")\n",
    "    print(f\"Upload complete! Video ID: {response['id']}\")"
   ]
  },
  {
   "cell_type": "code",
   "execution_count": null,
   "metadata": {},
   "outputs": [],
   "source": [
    "from redvid import Downloader\n",
    "\n",
    "path = f\"./downloads/{SUBREDDIT_NAME}\"\n",
    "\n",
    "os.makedirs(path, exist_ok=True)\n",
    "\n",
    "for submission in subbmissions:\n",
    "\n",
    "    reddit = Downloader(max_q=True,path= path)\n",
    "    reddit.url = submission.url\n",
    "    reddit.download()\n",
    "    \n",
    "    youtube = authenticate_youtube()\n",
    "    upload_video(\n",
    "        youtube,\n",
    "        file_path=path,\n",
    "        title=submission.title,\n",
    "        description=submission.selftext,\n",
    "        tags=['tag1', 'tag2'],\n",
    "        category_id='22',   \n",
    "        privacy_status='private'  \n",
    "    )"
   ]
  },
  {
   "cell_type": "code",
   "execution_count": null,
   "metadata": {},
   "outputs": [],
   "source": []
  }
 ],
 "metadata": {
  "kernelspec": {
   "display_name": ".venv",
   "language": "python",
   "name": "python3"
  },
  "language_info": {
   "codemirror_mode": {
    "name": "ipython",
    "version": 3
   },
   "file_extension": ".py",
   "mimetype": "text/x-python",
   "name": "python",
   "nbconvert_exporter": "python",
   "pygments_lexer": "ipython3",
   "version": "3.13.1"
  }
 },
 "nbformat": 4,
 "nbformat_minor": 2
}
