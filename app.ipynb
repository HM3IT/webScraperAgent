{
 "cells": [
  {
   "cell_type": "code",
   "execution_count": 1,
   "metadata": {},
   "outputs": [],
   "source": [
    "import os\n",
    "import praw\n",
    "from dotenv import load_dotenv\n",
    "\n",
    "load_dotenv()\n",
    "\n",
    "REDDIT_CLIENT_ID = os.environ[\"REDDIT_CLIENT_ID\"]\n",
    "REDDIT_CLIENT_SECRET = os.environ[\"REDDIT_CLIENT_SECRET\"]\n",
    "REDDIT_PASSWORD = os.environ[\"REDDIT_PASSWORD\"]\n",
    "REDDIT_USERNAME = os.environ[\"REDDIT_USERNAME\"]\n",
    "REDDIT_AGENT_NAME = os.environ[\"REDDIT_AGENT_NAME\"]\n",
    "SUBREDDIT_NAME = os.environ[\"SUBREDDIT_NAME\"]"
   ]
  },
  {
   "cell_type": "code",
   "execution_count": 2,
   "metadata": {},
   "outputs": [],
   "source": [
    "reddit = praw.Reddit(\n",
    "    client_id=REDDIT_CLIENT_ID,\n",
    "    client_secret=REDDIT_CLIENT_SECRET,\n",
    "    user_agent=REDDIT_AGENT_NAME,\n",
    "    username=REDDIT_USERNAME,\n",
    "    password=REDDIT_PASSWORD,\n",
    ")\n",
    "\n",
    "subreddit = reddit.subreddit(SUBREDDIT_NAME)\n",
    "\n",
    "\n",
    "def fetch_new_submissions(subreddit: any, limit: int = 10) -> list:\n",
    "    submissions = []\n",
    "    for submission in subreddit.new(limit=limit):\n",
    "        submissions.append(submission)\n",
    "    return submissions\n",
    "\n",
    "\n",
    "def fetch_hot_submissions(subreddit: any, limit: int = 10) -> list:\n",
    "    submissions = []\n",
    "    for submission in subreddit.hot(limit=limit):\n",
    "        submissions.append(submission)\n",
    "    return submissions"
   ]
  },
  {
   "cell_type": "code",
   "execution_count": 3,
   "metadata": {},
   "outputs": [
    {
     "data": {
      "text/plain": [
       "'https://v.redd.it/up3aaplbmdte1'"
      ]
     },
     "execution_count": 3,
     "metadata": {},
     "output_type": "execute_result"
    }
   ],
   "source": [
    "subbmissions = fetch_hot_submissions(subreddit, limit=5)\n",
    "\n",
    "submission = subbmissions[4]\n",
    "\n",
    "submission.url"
   ]
  },
  {
   "cell_type": "code",
   "execution_count": null,
   "metadata": {},
   "outputs": [
    {
     "ename": "TypeError",
     "evalue": "mkdir() got an unexpected keyword argument 'exist_ok'",
     "output_type": "error",
     "traceback": [
      "\u001b[31m---------------------------------------------------------------------------\u001b[39m",
      "\u001b[31mTypeError\u001b[39m                                 Traceback (most recent call last)",
      "\u001b[36mCell\u001b[39m\u001b[36m \u001b[39m\u001b[32mIn[4]\u001b[39m\u001b[32m, line 5\u001b[39m\n\u001b[32m      1\u001b[39m \u001b[38;5;28;01mfrom\u001b[39;00m\u001b[38;5;250m \u001b[39m\u001b[34;01mredvid\u001b[39;00m\u001b[38;5;250m \u001b[39m\u001b[38;5;28;01mimport\u001b[39;00m Downloader\n\u001b[32m      3\u001b[39m path = \u001b[33mf\u001b[39m\u001b[33m\"\u001b[39m\u001b[33m./downloads/\u001b[39m\u001b[38;5;132;01m{\u001b[39;00mSUBREDDIT_NAME\u001b[38;5;132;01m}\u001b[39;00m\u001b[33m\"\u001b[39m\n\u001b[32m----> \u001b[39m\u001b[32m5\u001b[39m \u001b[43mos\u001b[49m\u001b[43m.\u001b[49m\u001b[43mmkdir\u001b[49m\u001b[43m(\u001b[49m\u001b[43mpath\u001b[49m\u001b[43m,\u001b[49m\u001b[43m \u001b[49m\u001b[43mexist_ok\u001b[49m\u001b[43m=\u001b[49m\u001b[38;5;28;43;01mTrue\u001b[39;49;00m\u001b[43m)\u001b[49m\n\u001b[32m      7\u001b[39m reddit = Downloader(max_q=\u001b[38;5;28;01mTrue\u001b[39;00m, path=path)\n\u001b[32m      8\u001b[39m reddit.url = submission.url\n",
      "\u001b[31mTypeError\u001b[39m: mkdir() got an unexpected keyword argument 'exist_ok'"
     ]
    }
   ],
   "source": [
    "from redvid import Downloader\n",
    "\n",
    "path = f\"./downloads/{SUBREDDIT_NAME}\"\n",
    "\n",
    "os.makedirs(path, exist_ok=True)\n",
    "\n",
    "reddit = Downloader(max_q=True,path= path)\n",
    "reddit.url = submission.url\n",
    "reddit.download()"
   ]
  }
 ],
 "metadata": {
  "kernelspec": {
   "display_name": ".venv",
   "language": "python",
   "name": "python3"
  },
  "language_info": {
   "codemirror_mode": {
    "name": "ipython",
    "version": 3
   },
   "file_extension": ".py",
   "mimetype": "text/x-python",
   "name": "python",
   "nbconvert_exporter": "python",
   "pygments_lexer": "ipython3",
   "version": "3.13.1"
  }
 },
 "nbformat": 4,
 "nbformat_minor": 2
}
